{
 "cells": [
  {
   "cell_type": "code",
   "execution_count": 33,
   "metadata": {},
   "outputs": [
    {
     "name": "stderr",
     "output_type": "stream",
     "text": [
      "[nltk_data] Downloading package stopwords to\n",
      "[nltk_data]     C:\\Users\\T-Gamer\\AppData\\Roaming\\nltk_data...\n",
      "[nltk_data]   Package stopwords is already up-to-date!\n"
     ]
    },
    {
     "data": {
      "text/plain": [
       "True"
      ]
     },
     "execution_count": 33,
     "metadata": {},
     "output_type": "execute_result"
    }
   ],
   "source": [
    "import re   \n",
    "import nltk   \n",
    "import string \n",
    "import warnings \n",
    "import numpy as np \n",
    "import pandas as pd\n",
    "\n",
    "from nltk.stem.porter import PorterStemmer\n",
    "\n",
    "nltk.download('stopwords')"
   ]
  },
  {
   "cell_type": "code",
   "execution_count": 24,
   "metadata": {},
   "outputs": [
    {
     "data": {
      "text/html": [
       "<div>\n",
       "<style scoped>\n",
       "    .dataframe tbody tr th:only-of-type {\n",
       "        vertical-align: middle;\n",
       "    }\n",
       "\n",
       "    .dataframe tbody tr th {\n",
       "        vertical-align: top;\n",
       "    }\n",
       "\n",
       "    .dataframe thead th {\n",
       "        text-align: right;\n",
       "    }\n",
       "</style>\n",
       "<table border=\"1\" class=\"dataframe\">\n",
       "  <thead>\n",
       "    <tr style=\"text-align: right;\">\n",
       "      <th></th>\n",
       "      <th>target</th>\n",
       "      <th>tweet</th>\n",
       "    </tr>\n",
       "  </thead>\n",
       "  <tbody>\n",
       "    <tr>\n",
       "      <th>0</th>\n",
       "      <td>0</td>\n",
       "      <td>is upset that he can't update his Facebook by ...</td>\n",
       "    </tr>\n",
       "    <tr>\n",
       "      <th>1</th>\n",
       "      <td>0</td>\n",
       "      <td>@Kenichan I dived many times for the ball. Man...</td>\n",
       "    </tr>\n",
       "    <tr>\n",
       "      <th>2</th>\n",
       "      <td>0</td>\n",
       "      <td>my whole body feels itchy and like its on fire</td>\n",
       "    </tr>\n",
       "    <tr>\n",
       "      <th>3</th>\n",
       "      <td>0</td>\n",
       "      <td>@nationwideclass no, it's not behaving at all....</td>\n",
       "    </tr>\n",
       "    <tr>\n",
       "      <th>4</th>\n",
       "      <td>0</td>\n",
       "      <td>@Kwesidei not the whole crew</td>\n",
       "    </tr>\n",
       "  </tbody>\n",
       "</table>\n",
       "</div>"
      ],
      "text/plain": [
       "   target                                              tweet\n",
       "0       0  is upset that he can't update his Facebook by ...\n",
       "1       0  @Kenichan I dived many times for the ball. Man...\n",
       "2       0    my whole body feels itchy and like its on fire \n",
       "3       0  @nationwideclass no, it's not behaving at all....\n",
       "4       0                      @Kwesidei not the whole crew "
      ]
     },
     "execution_count": 24,
     "metadata": {},
     "output_type": "execute_result"
    }
   ],
   "source": [
    "''' Leitura do data-set e nomenclatura das colunas. '''\n",
    "df = pd.read_csv('training.1600000.processed.noemoticon.csv', encoding='latin-1')\n",
    "\n",
    "columns_names = ['target', 'ids', 'date', 'flag', 'user', 'tweet']\n",
    "df.columns = columns_names\n",
    "\n",
    "df.drop(['ids', 'date', 'flag', 'user'], axis=1, inplace=True)\n",
    "\n",
    "df.head()"
   ]
  },
  {
   "cell_type": "code",
   "execution_count": 25,
   "metadata": {},
   "outputs": [
    {
     "data": {
      "text/html": [
       "<div>\n",
       "<style scoped>\n",
       "    .dataframe tbody tr th:only-of-type {\n",
       "        vertical-align: middle;\n",
       "    }\n",
       "\n",
       "    .dataframe tbody tr th {\n",
       "        vertical-align: top;\n",
       "    }\n",
       "\n",
       "    .dataframe thead th {\n",
       "        text-align: right;\n",
       "    }\n",
       "</style>\n",
       "<table border=\"1\" class=\"dataframe\">\n",
       "  <thead>\n",
       "    <tr style=\"text-align: right;\">\n",
       "      <th></th>\n",
       "      <th>target</th>\n",
       "      <th>tweet</th>\n",
       "    </tr>\n",
       "  </thead>\n",
       "  <tbody>\n",
       "    <tr>\n",
       "      <th>799999</th>\n",
       "      <td>4</td>\n",
       "      <td>I LOVE @Health4UandPets u guys r the best!!</td>\n",
       "    </tr>\n",
       "    <tr>\n",
       "      <th>800000</th>\n",
       "      <td>4</td>\n",
       "      <td>im meeting up with one of my besties tonight! ...</td>\n",
       "    </tr>\n",
       "    <tr>\n",
       "      <th>800001</th>\n",
       "      <td>4</td>\n",
       "      <td>@DaRealSunisaKim Thanks for the Twitter add, S...</td>\n",
       "    </tr>\n",
       "    <tr>\n",
       "      <th>800002</th>\n",
       "      <td>4</td>\n",
       "      <td>Being sick can be really cheap when it hurts t...</td>\n",
       "    </tr>\n",
       "    <tr>\n",
       "      <th>800003</th>\n",
       "      <td>4</td>\n",
       "      <td>@LovesBrooklyn2 he has that effect on everyone</td>\n",
       "    </tr>\n",
       "  </tbody>\n",
       "</table>\n",
       "</div>"
      ],
      "text/plain": [
       "        target                                              tweet\n",
       "799999       4       I LOVE @Health4UandPets u guys r the best!! \n",
       "800000       4  im meeting up with one of my besties tonight! ...\n",
       "800001       4  @DaRealSunisaKim Thanks for the Twitter add, S...\n",
       "800002       4  Being sick can be really cheap when it hurts t...\n",
       "800003       4    @LovesBrooklyn2 he has that effect on everyone "
      ]
     },
     "execution_count": 25,
     "metadata": {},
     "output_type": "execute_result"
    }
   ],
   "source": [
    "''' Extraindo duas partições de dados, uma com 25.000 tweets não-depresivos e outra com 2000 tweets depresivos respectivamente. '''\n",
    "positive_data = df[df.target == 4].iloc[:25000,:]\n",
    "negative_data = df[df.target == 0].iloc[:2000,:]\n",
    "\n",
    "df = pd.concat([positive_data, negative_data], axis=0)\n",
    "\n",
    "df.head()"
   ]
  },
  {
   "cell_type": "code",
   "execution_count": 40,
   "metadata": {},
   "outputs": [
    {
     "name": "stderr",
     "output_type": "stream",
     "text": [
      "C:\\Users\\T-Gamer\\AppData\\Local\\Temp\\ipykernel_9996\\3572774554.py:8: FutureWarning: The default value of regex will change from True to False in a future version.\n",
      "  df['clean_tweet'] = df['clean_tweet'].str.replace(r'http\\S+', '')\n"
     ]
    },
    {
     "data": {
      "text/html": [
       "<div>\n",
       "<style scoped>\n",
       "    .dataframe tbody tr th:only-of-type {\n",
       "        vertical-align: middle;\n",
       "    }\n",
       "\n",
       "    .dataframe tbody tr th {\n",
       "        vertical-align: top;\n",
       "    }\n",
       "\n",
       "    .dataframe thead th {\n",
       "        text-align: right;\n",
       "    }\n",
       "</style>\n",
       "<table border=\"1\" class=\"dataframe\">\n",
       "  <thead>\n",
       "    <tr style=\"text-align: right;\">\n",
       "      <th></th>\n",
       "      <th>target</th>\n",
       "      <th>tweet</th>\n",
       "      <th>clean_tweet</th>\n",
       "    </tr>\n",
       "  </thead>\n",
       "  <tbody>\n",
       "    <tr>\n",
       "      <th>799999</th>\n",
       "      <td>4</td>\n",
       "      <td>I LOVE @Health4UandPets u guys r the best!!</td>\n",
       "      <td>love health4uandpet best!!</td>\n",
       "    </tr>\n",
       "    <tr>\n",
       "      <th>800000</th>\n",
       "      <td>4</td>\n",
       "      <td>im meeting up with one of my besties tonight! ...</td>\n",
       "      <td>meet besti tonight! cant wait!! girl talk!!</td>\n",
       "    </tr>\n",
       "    <tr>\n",
       "      <th>800001</th>\n",
       "      <td>4</td>\n",
       "      <td>@DaRealSunisaKim Thanks for the Twitter add, S...</td>\n",
       "      <td>darealsunisakim thank twitter add, sunisa! mee...</td>\n",
       "    </tr>\n",
       "    <tr>\n",
       "      <th>800002</th>\n",
       "      <td>4</td>\n",
       "      <td>Being sick can be really cheap when it hurts t...</td>\n",
       "      <td>sick realli cheap hurt much real food plus, fr...</td>\n",
       "    </tr>\n",
       "    <tr>\n",
       "      <th>800003</th>\n",
       "      <td>4</td>\n",
       "      <td>@LovesBrooklyn2 he has that effect on everyone</td>\n",
       "      <td>lovesbrooklyn2 effect everyon</td>\n",
       "    </tr>\n",
       "  </tbody>\n",
       "</table>\n",
       "</div>"
      ],
      "text/plain": [
       "        target                                              tweet  \\\n",
       "799999       4       I LOVE @Health4UandPets u guys r the best!!    \n",
       "800000       4  im meeting up with one of my besties tonight! ...   \n",
       "800001       4  @DaRealSunisaKim Thanks for the Twitter add, S...   \n",
       "800002       4  Being sick can be really cheap when it hurts t...   \n",
       "800003       4    @LovesBrooklyn2 he has that effect on everyone    \n",
       "\n",
       "                                              clean_tweet  \n",
       "799999                         love health4uandpet best!!  \n",
       "800000        meet besti tonight! cant wait!! girl talk!!  \n",
       "800001  darealsunisakim thank twitter add, sunisa! mee...  \n",
       "800002  sick realli cheap hurt much real food plus, fr...  \n",
       "800003                      lovesbrooklyn2 effect everyon  "
      ]
     },
     "execution_count": 40,
     "metadata": {},
     "output_type": "execute_result"
    }
   ],
   "source": [
    "''' Limpando os tweets, removendo caracteres comuns, stopwords e simplificando as palavras restantes. '''\n",
    "stemmer = PorterStemmer() \n",
    "\n",
    "stopwords = nltk.corpus.stopwords.words('english')\n",
    "remove_stopwords_cb = lambda tweet: ' '.join([word for word in tweet.split() if word not in stopwords])\n",
    "  \n",
    "df['clean_tweet'] = df['tweet'].str.replace('@', '') \n",
    "df['clean_tweet'] = df['clean_tweet'].str.replace(r'http\\S+', '')\n",
    "df['clean_tweet'] = df['clean_tweet'].apply(lambda tweet_item: remove_stopwords_cb(tweet_item.lower()))\n",
    "df['clean_tweet'] = df['clean_tweet'].apply(lambda tweet_item: tweet_item.split())\n",
    "df['clean_tweet'] = df['clean_tweet'].apply(lambda tweet_item: [stemmer.stem(word) for word in tweet_item])\n",
    "df['clean_tweet'] = df['clean_tweet'].apply(lambda tweet_item: ' '.join([word for word in tweet_item]))\n",
    "df['clean_tweet'] = df['clean_tweet'].apply(lambda tweet_item: ' '.join([word for word in tweet_item.split() if len(word) > 3]))\n",
    "\n",
    "df.head()"
   ]
  },
  {
   "cell_type": "code",
   "execution_count": null,
   "metadata": {},
   "outputs": [],
   "source": []
  }
 ],
 "metadata": {
  "kernelspec": {
   "display_name": "Python 3.11.0 64-bit",
   "language": "python",
   "name": "python3"
  },
  "language_info": {
   "codemirror_mode": {
    "name": "ipython",
    "version": 3
   },
   "file_extension": ".py",
   "mimetype": "text/x-python",
   "name": "python",
   "nbconvert_exporter": "python",
   "pygments_lexer": "ipython3",
   "version": "3.11.0"
  },
  "orig_nbformat": 4,
  "vscode": {
   "interpreter": {
    "hash": "133b067cee97a2425a9ac4a7c5445634e270d42965419a4e909950b04c177663"
   }
  }
 },
 "nbformat": 4,
 "nbformat_minor": 2
}
