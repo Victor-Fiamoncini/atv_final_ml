{
 "cells": [
  {
   "cell_type": "code",
<<<<<<< HEAD
   "execution_count": 12,
=======
   "execution_count": 1,
>>>>>>> 1dbbe94012f89c1646d1c9d75fd05b577bcd192d
   "metadata": {},
   "outputs": [
    {
     "name": "stderr",
     "output_type": "stream",
     "text": [
      "[nltk_data] Downloading package stopwords to\n",
      "[nltk_data]     C:\\Users\\T-Gamer\\AppData\\Roaming\\nltk_data...\n",
      "[nltk_data]   Package stopwords is already up-to-date!\n"
     ]
    },
    {
     "data": {
      "text/plain": [
       "True"
      ]
     },
<<<<<<< HEAD
     "execution_count": 12,
=======
     "execution_count": 1,
>>>>>>> 1dbbe94012f89c1646d1c9d75fd05b577bcd192d
     "metadata": {},
     "output_type": "execute_result"
    }
   ],
   "source": [
    "import re   \n",
    "import nltk   \n",
    "import string \n",
    "import matplotlib.pyplot as plt\n",
    "import numpy as np \n",
    "import pandas as pd\n",
    "\n",
    "from keras.models import Sequential\n",
    "from keras.layers import Dense, Dropout, LSTM\n",
    "\n",
    "from nltk.stem.porter import PorterStemmer\n",
    "\n",
    "from sklearn.ensemble import RandomForestClassifier \n",
    "from sklearn.feature_extraction.text import CountVectorizer\n",
    "from sklearn.linear_model import LogisticRegression\n",
    "from sklearn.neighbors import KNeighborsClassifier\n",
    "from sklearn.neural_network import MLPClassifier\n",
    "from sklearn.metrics import accuracy_score\n",
    "from sklearn.model_selection import train_test_split\n",
    "from sklearn.neighbors import KNeighborsClassifier\n",
    "\n",
    "\n",
    "pd.set_option('display.max_colwidth', 200)\n",
    "nltk.download('stopwords')"
   ]
  },
  {
   "cell_type": "code",
   "execution_count": 2,
   "metadata": {},
   "outputs": [
    {
     "data": {
      "text/html": [
       "<div>\n",
       "<style scoped>\n",
       "    .dataframe tbody tr th:only-of-type {\n",
       "        vertical-align: middle;\n",
       "    }\n",
       "\n",
       "    .dataframe tbody tr th {\n",
       "        vertical-align: top;\n",
       "    }\n",
       "\n",
       "    .dataframe thead th {\n",
       "        text-align: right;\n",
       "    }\n",
       "</style>\n",
       "<table border=\"1\" class=\"dataframe\">\n",
       "  <thead>\n",
       "    <tr style=\"text-align: right;\">\n",
       "      <th></th>\n",
       "      <th>target</th>\n",
       "      <th>tweet</th>\n",
       "    </tr>\n",
       "  </thead>\n",
       "  <tbody>\n",
       "    <tr>\n",
       "      <th>0</th>\n",
       "      <td>0</td>\n",
       "      <td>is upset that he can't update his Facebook by texting it... and might cry as a result  School today also. Blah!</td>\n",
       "    </tr>\n",
       "    <tr>\n",
       "      <th>1</th>\n",
       "      <td>0</td>\n",
       "      <td>@Kenichan I dived many times for the ball. Managed to save 50%  The rest go out of bounds</td>\n",
       "    </tr>\n",
       "    <tr>\n",
       "      <th>2</th>\n",
       "      <td>0</td>\n",
       "      <td>my whole body feels itchy and like its on fire</td>\n",
       "    </tr>\n",
       "    <tr>\n",
       "      <th>3</th>\n",
       "      <td>0</td>\n",
       "      <td>@nationwideclass no, it's not behaving at all. i'm mad. why am i here? because I can't see you all over there.</td>\n",
       "    </tr>\n",
       "    <tr>\n",
       "      <th>4</th>\n",
       "      <td>0</td>\n",
       "      <td>@Kwesidei not the whole crew</td>\n",
       "    </tr>\n",
       "  </tbody>\n",
       "</table>\n",
       "</div>"
      ],
      "text/plain": [
       "   target  \\\n",
       "0       0   \n",
       "1       0   \n",
       "2       0   \n",
       "3       0   \n",
       "4       0   \n",
       "\n",
       "                                                                                                             tweet  \n",
       "0  is upset that he can't update his Facebook by texting it... and might cry as a result  School today also. Blah!  \n",
       "1                        @Kenichan I dived many times for the ball. Managed to save 50%  The rest go out of bounds  \n",
       "2                                                                  my whole body feels itchy and like its on fire   \n",
       "3  @nationwideclass no, it's not behaving at all. i'm mad. why am i here? because I can't see you all over there.   \n",
       "4                                                                                    @Kwesidei not the whole crew   "
      ]
     },
     "execution_count": 2,
     "metadata": {},
     "output_type": "execute_result"
    }
   ],
   "source": [
    "''' Leitura do data-set e nomenclatura das colunas. '''\n",
    "df = pd.read_csv('training.1600000.processed.noemoticon.csv', encoding='latin-1')\n",
    "\n",
    "columns_names = ['target', 'ids', 'date', 'flag', 'user', 'tweet']\n",
    "df.columns = columns_names\n",
    "\n",
    "df.drop(['ids', 'date', 'flag', 'user'], axis=1, inplace=True)\n",
    "\n",
    "df.head()"
   ]
  },
  {
   "cell_type": "code",
   "execution_count": 3,
   "metadata": {},
   "outputs": [
    {
     "name": "stdout",
     "output_type": "stream",
     "text": [
      "(25000, 2)\n",
      "(20000, 2)\n",
      "(45000, 2)\n"
     ]
    },
    {
     "data": {
      "text/html": [
       "<div>\n",
       "<style scoped>\n",
       "    .dataframe tbody tr th:only-of-type {\n",
       "        vertical-align: middle;\n",
       "    }\n",
       "\n",
       "    .dataframe tbody tr th {\n",
       "        vertical-align: top;\n",
       "    }\n",
       "\n",
       "    .dataframe thead th {\n",
       "        text-align: right;\n",
       "    }\n",
       "</style>\n",
       "<table border=\"1\" class=\"dataframe\">\n",
       "  <thead>\n",
       "    <tr style=\"text-align: right;\">\n",
       "      <th></th>\n",
       "      <th>target</th>\n",
       "      <th>tweet</th>\n",
       "    </tr>\n",
       "  </thead>\n",
       "  <tbody>\n",
       "    <tr>\n",
       "      <th>799999</th>\n",
       "      <td>4</td>\n",
       "      <td>I LOVE @Health4UandPets u guys r the best!!</td>\n",
       "    </tr>\n",
       "    <tr>\n",
       "      <th>800000</th>\n",
       "      <td>4</td>\n",
       "      <td>im meeting up with one of my besties tonight! Cant wait!!  - GIRL TALK!!</td>\n",
       "    </tr>\n",
       "    <tr>\n",
       "      <th>800001</th>\n",
       "      <td>4</td>\n",
       "      <td>@DaRealSunisaKim Thanks for the Twitter add, Sunisa! I got to meet you once at a HIN show here in the DC area and you were a sweetheart.</td>\n",
       "    </tr>\n",
       "    <tr>\n",
       "      <th>800002</th>\n",
       "      <td>4</td>\n",
       "      <td>Being sick can be really cheap when it hurts too much to eat real food  Plus, your friends make you soup</td>\n",
       "    </tr>\n",
       "    <tr>\n",
       "      <th>800003</th>\n",
       "      <td>4</td>\n",
       "      <td>@LovesBrooklyn2 he has that effect on everyone</td>\n",
       "    </tr>\n",
       "  </tbody>\n",
       "</table>\n",
       "</div>"
      ],
      "text/plain": [
       "        target  \\\n",
       "799999       4   \n",
       "800000       4   \n",
       "800001       4   \n",
       "800002       4   \n",
       "800003       4   \n",
       "\n",
       "                                                                                                                                            tweet  \n",
       "799999                                                                                               I LOVE @Health4UandPets u guys r the best!!   \n",
       "800000                                                                   im meeting up with one of my besties tonight! Cant wait!!  - GIRL TALK!!  \n",
       "800001  @DaRealSunisaKim Thanks for the Twitter add, Sunisa! I got to meet you once at a HIN show here in the DC area and you were a sweetheart.   \n",
       "800002                                   Being sick can be really cheap when it hurts too much to eat real food  Plus, your friends make you soup  \n",
       "800003                                                                                            @LovesBrooklyn2 he has that effect on everyone   "
      ]
     },
     "execution_count": 3,
     "metadata": {},
     "output_type": "execute_result"
    }
   ],
   "source": [
    "''' Extraindo duas partições de dados, uma com 25.000 tweets felizes e outra com 20.000 tweets tristes respectivamente. '''\n",
    "positive_data = df[df.target == 4].iloc[:25000,:]\n",
    "negative_data = df[df.target == 0].iloc[:20000,:]\n",
    "\n",
    "df = pd.concat([positive_data, negative_data], axis=0)\n",
    "\n",
    "print(positive_data.shape)\n",
    "print(negative_data.shape)\n",
    "print(df.shape)\n",
    "\n",
    "df.head()"
   ]
  },
  {
   "cell_type": "code",
   "execution_count": 4,
   "metadata": {},
   "outputs": [
    {
     "name": "stderr",
     "output_type": "stream",
     "text": [
<<<<<<< HEAD
      "C:\\Users\\victo\\AppData\\Local\\Temp\\ipykernel_7328\\447735234.py:8: FutureWarning: The default value of regex will change from True to False in a future version.\n",
      "  df['clean_tweet'] = df['clean_tweet'].str.replace(r\"http\\S+\", \"\")\n",
      "C:\\Users\\victo\\AppData\\Local\\Temp\\ipykernel_7328\\447735234.py:9: FutureWarning: The default value of regex will change from True to False in a future version.\n",
=======
      "C:\\Users\\T-Gamer\\AppData\\Local\\Temp\\ipykernel_14884\\447735234.py:8: FutureWarning: The default value of regex will change from True to False in a future version.\n",
      "  df['clean_tweet'] = df['clean_tweet'].str.replace(r\"http\\S+\", \"\")\n",
      "C:\\Users\\T-Gamer\\AppData\\Local\\Temp\\ipykernel_14884\\447735234.py:9: FutureWarning: The default value of regex will change from True to False in a future version.\n",
>>>>>>> 1dbbe94012f89c1646d1c9d75fd05b577bcd192d
      "  df['clean_tweet'] = df['clean_tweet'].str.replace(\"[^a-zA-Z]\", \" \")\n"
     ]
    },
    {
     "data": {
      "text/html": [
       "<div>\n",
       "<style scoped>\n",
       "    .dataframe tbody tr th:only-of-type {\n",
       "        vertical-align: middle;\n",
       "    }\n",
       "\n",
       "    .dataframe tbody tr th {\n",
       "        vertical-align: top;\n",
       "    }\n",
       "\n",
       "    .dataframe thead th {\n",
       "        text-align: right;\n",
       "    }\n",
       "</style>\n",
       "<table border=\"1\" class=\"dataframe\">\n",
       "  <thead>\n",
       "    <tr style=\"text-align: right;\">\n",
       "      <th></th>\n",
       "      <th>target</th>\n",
       "      <th>tweet</th>\n",
       "      <th>clean_tweet</th>\n",
       "    </tr>\n",
       "  </thead>\n",
       "  <tbody>\n",
       "    <tr>\n",
       "      <th>799999</th>\n",
       "      <td>4</td>\n",
       "      <td>I LOVE @Health4UandPets u guys r the best!!</td>\n",
       "      <td>love health uandpet best</td>\n",
       "    </tr>\n",
       "    <tr>\n",
       "      <th>800000</th>\n",
       "      <td>4</td>\n",
       "      <td>im meeting up with one of my besties tonight! Cant wait!!  - GIRL TALK!!</td>\n",
       "      <td>meet besti tonight cant wait girl talk</td>\n",
       "    </tr>\n",
       "    <tr>\n",
       "      <th>800001</th>\n",
       "      <td>4</td>\n",
       "      <td>@DaRealSunisaKim Thanks for the Twitter add, Sunisa! I got to meet you once at a HIN show here in the DC area and you were a sweetheart.</td>\n",
       "      <td>darealsunisakim thank twitter sunisa meet show area sweetheart</td>\n",
       "    </tr>\n",
       "    <tr>\n",
       "      <th>800002</th>\n",
       "      <td>4</td>\n",
       "      <td>Being sick can be really cheap when it hurts too much to eat real food  Plus, your friends make you soup</td>\n",
       "      <td>sick realli cheap hurt much real food friend make soup</td>\n",
       "    </tr>\n",
       "    <tr>\n",
       "      <th>800003</th>\n",
       "      <td>4</td>\n",
       "      <td>@LovesBrooklyn2 he has that effect on everyone</td>\n",
       "      <td>lovesbrooklyn effect everyon</td>\n",
       "    </tr>\n",
       "  </tbody>\n",
       "</table>\n",
       "</div>"
      ],
      "text/plain": [
       "        target  \\\n",
       "799999       4   \n",
       "800000       4   \n",
       "800001       4   \n",
       "800002       4   \n",
       "800003       4   \n",
       "\n",
       "                                                                                                                                            tweet  \\\n",
       "799999                                                                                               I LOVE @Health4UandPets u guys r the best!!    \n",
       "800000                                                                   im meeting up with one of my besties tonight! Cant wait!!  - GIRL TALK!!   \n",
       "800001  @DaRealSunisaKim Thanks for the Twitter add, Sunisa! I got to meet you once at a HIN show here in the DC area and you were a sweetheart.    \n",
       "800002                                   Being sick can be really cheap when it hurts too much to eat real food  Plus, your friends make you soup   \n",
       "800003                                                                                            @LovesBrooklyn2 he has that effect on everyone    \n",
       "\n",
       "                                                           clean_tweet  \n",
       "799999                                        love health uandpet best  \n",
       "800000                          meet besti tonight cant wait girl talk  \n",
       "800001  darealsunisakim thank twitter sunisa meet show area sweetheart  \n",
       "800002          sick realli cheap hurt much real food friend make soup  \n",
       "800003                                    lovesbrooklyn effect everyon  "
      ]
     },
     "execution_count": 4,
     "metadata": {},
     "output_type": "execute_result"
    }
   ],
   "source": [
    "''' Limpando os tweets, removendo caracteres comuns, stopwords e simplificando as palavras restantes com o PorterStemmer. '''\n",
    "stemmer = PorterStemmer() \n",
    "stopwords = nltk.corpus.stopwords.words('english')\n",
    "\n",
    "remove_stopwords_cb = lambda tweet: ' '.join([word for word in tweet.split() if word not in stopwords])\n",
    "  \n",
    "df['clean_tweet'] = df['tweet'].str.replace(\"@\", \"\")\n",
    "df['clean_tweet'] = df['clean_tweet'].str.replace(r\"http\\S+\", \"\")\n",
    "df['clean_tweet'] = df['clean_tweet'].str.replace(\"[^a-zA-Z]\", \" \")\n",
    "\n",
    "df['clean_tweet'] = df['clean_tweet'] \\\n",
    "  .apply(lambda tweet_item: remove_stopwords_cb(tweet_item.lower())) \\\n",
    "  .apply(lambda tweet_item: tweet_item.split()) \\\n",
    "  .apply(lambda tweet_item: [stemmer.stem(word) for word in tweet_item]) \\\n",
    "  .apply(lambda tweet_item: ' '.join([word for word in tweet_item])) \\\n",
    "  .apply(lambda tweet_item: ' '.join([word for word in tweet_item.split() if len(word) > 3]))\n",
    "\n",
    "df.head()"
   ]
  },
  {
   "cell_type": "code",
   "execution_count": 5,
   "metadata": {},
   "outputs": [],
   "source": [
    "''' Aplicando o CountVectorizer e Separando dados de treino e teste. '''\n",
    "count_vectorizer = CountVectorizer(stop_words='english') \n",
    "x = count_vectorizer.fit_transform(df['clean_tweet'])\n",
    "y = df['target']\n",
    "\n",
    "x_train, x_test, y_train, y_test = train_test_split(x, y, stratify=y, test_size=0.2, random_state=42)"
   ]
  },
  {
   "cell_type": "code",
<<<<<<< HEAD
   "execution_count": 10,
   "metadata": {},
   "outputs": [
    {
     "data": {
      "text/plain": [
       "'MLPClassifier score: 0.7033333333333334'"
      ]
     },
     "execution_count": 10,
     "metadata": {},
     "output_type": "execute_result"
    }
   ],
   "source": [
    "''' Aplicando o modelo MLP. '''\n",
    "mlp_model = MLPClassifier(\n",
    "    hidden_layer_sizes=(150, 100, 50), \n",
    "    max_iter=300, \n",
    "    activation='relu',\n",
    "    solver='adam',\n",
    ")\n",
    "mlp_model.fit(x_train, y_train)\n",
    "mlp_y_predicted = mlp_model.predict(x_test)\n",
    "\n",
    "f'MLPClassifier score: {accuracy_score(mlp_y_predicted, y_test)}'"
   ]
  },
  {
   "cell_type": "code",
   "execution_count": 9,
   "metadata": {},
   "outputs": [
    {
     "data": {
      "text/plain": [
       "'RandomForestClassifier score: 0.7121111111111111'"
      ]
     },
     "execution_count": 9,
     "metadata": {},
     "output_type": "execute_result"
    }
   ],
   "source": [
    "''' Aplicando o modelo RandomForest. '''\n",
    "rf_model = RandomForestClassifier(n_estimators=500)\n",
    "rf_model.fit(x_train, y_train)\n",
    "rf_y_predicted = rf_model.predict(x_test)\n",
    "\n",
    "f'RandomForestClassifier score: {accuracy_score(rf_y_predicted, y_test)}'"
   ]
  },
  {
   "cell_type": "code",
   "execution_count": 16,
   "metadata": {},
   "outputs": [
    {
     "data": {
      "text/plain": [
       "'LogisticRegression score: 0.7226666666666667'"
      ]
     },
     "execution_count": 16,
     "metadata": {},
     "output_type": "execute_result"
    }
   ],
   "source": [
    "''' Aplicando o modelo LogisticRegression. '''\n",
    "lr_model = LogisticRegression(max_iter=1000)\n",
    "lr_model.fit(x_train, y_train)\n",
    "lr_y_predicted = lr_model.predict(x_test)\n",
    "\n",
    "f'LogisticRegression score: {accuracy_score(lr_y_predicted, y_test)}'"
   ]
  },
  {
   "cell_type": "code",
   "execution_count": 14,
   "metadata": {},
   "outputs": [
    {
     "data": {
      "text/plain": [
       "'KNeighborsClassifier score: 0.6467777777777778'"
      ]
     },
     "execution_count": 14,
     "metadata": {},
     "output_type": "execute_result"
    }
   ],
   "source": [
    "''' Aplicando o modelo KNeighborsClassifier. '''\n",
    "knn_model = KNeighborsClassifier(n_neighbors=500)\n",
    "knn_model.fit(x_train, y_train.values.ravel())\n",
    "knn_y_predicted = knn_model.predict(x_test)\n",
    "\n",
    "f'KNeighborsClassifier score: {accuracy_score(knn_y_predicted, y_test)}'"
=======
   "execution_count": 6,
   "metadata": {},
   "outputs": [
    {
     "data": {
      "text/plain": [
       "' Aplicando o modelo MLP. '"
      ]
     },
     "execution_count": 6,
     "metadata": {},
     "output_type": "execute_result"
    }
   ],
   "source": [
    "''' Aplicando o modelo MLP. '''\n",
    "# mlp_model = MLPClassifier(\n",
    "#     hidden_layer_sizes=(150, 100, 50), \n",
    "#     max_iter=300, \n",
    "#     activation='relu',\n",
    "#     solver='adam',\n",
    "#     random_state=1\n",
    "# )\n",
    "# mlp_model.fit(x_train, y_train)\n",
    "# mlp_y_predicted = mlp_model.predict(x_test)\n",
    "\n",
    "# print(accuracy_score(mlp_y_predicted, y_test))"
   ]
  },
  {
   "cell_type": "code",
   "execution_count": 7,
   "metadata": {},
   "outputs": [
    {
     "data": {
      "text/plain": [
       "' Aplicando o modelo RandomForest. '"
      ]
     },
     "execution_count": 7,
     "metadata": {},
     "output_type": "execute_result"
    }
   ],
   "source": [
    "''' Aplicando o modelo RandomForest. '''\n",
    "# rf_model = RandomForestClassifier(n_estimators=1000, random_state=42)\n",
    "# rf_model.fit(x_train, y_train)\n",
    "# rf_y_predicted = rf_model.predict(x_test)\n",
    "\n",
    "# print(accuracy_score(rf_y_predicted, y_test))"
   ]
  },
  {
   "cell_type": "code",
   "execution_count": 8,
   "metadata": {},
   "outputs": [
    {
     "data": {
      "text/plain": [
       "' Aplicando o modelo LogisticRegression. '"
      ]
     },
     "execution_count": 8,
     "metadata": {},
     "output_type": "execute_result"
    }
   ],
   "source": [
    "''' Aplicando o modelo LogisticRegression. '''\n",
    "# lr_model = LogisticRegression()\n",
    "# lr_model.fit(x_train, y_train)\n",
    "# lr_y_predicted = lr_model.predict(x_test)\n",
    "\n",
    "# print(accuracy_score(lr_y_predicted, y_test))"
   ]
  },
  {
   "cell_type": "code",
   "execution_count": 12,
   "metadata": {},
   "outputs": [
    {
     "name": "stdout",
     "output_type": "stream",
     "text": [
      "0.9615384615384616\n"
     ]
    }
   ],
   "source": [
    "''' Aplicando o modelo KNeighborsClassifier. '''\n",
    "knn_model = KNeighborsClassifier(n_neighbors=20)\n",
    "knn_model.fit(x_train, y_train.values.ravel())\n",
    "knn_y_predicted = knn_model.predict(x_test)\n",
    "\n",
    "print(accuracy_score(knn_y_predicted, y_test))"
>>>>>>> 1dbbe94012f89c1646d1c9d75fd05b577bcd192d
   ]
  }
 ],
 "metadata": {
  "kernelspec": {
   "display_name": "Python 3",
   "language": "python",
   "name": "python3"
  },
  "language_info": {
   "codemirror_mode": {
    "name": "ipython",
    "version": 3
   },
   "file_extension": ".py",
   "mimetype": "text/x-python",
   "name": "python",
   "nbconvert_exporter": "python",
   "pygments_lexer": "ipython3",
   "version": "3.11.0"
  },
  "orig_nbformat": 4,
  "vscode": {
   "interpreter": {
    "hash": "133b067cee97a2425a9ac4a7c5445634e270d42965419a4e909950b04c177663"
   }
  }
 },
 "nbformat": 4,
 "nbformat_minor": 2
}
